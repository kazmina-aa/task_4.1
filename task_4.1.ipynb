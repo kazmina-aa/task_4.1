{
 "cells": [
  {
   "cell_type": "code",
   "execution_count": 70,
   "metadata": {},
   "outputs": [],
   "source": [
    "from pyeasyga import pyeasyga"
   ]
  },
  {
   "cell_type": "code",
   "execution_count": 71,
   "metadata": {},
   "outputs": [
    {
     "data": {
      "text/plain": [
       "[[816.0, 0.4, 356.0],\n",
       " [1236.0, 0.5, 202.0],\n",
       " [1391.0, 0.5, 294.0],\n",
       " [1073.0, 1.1, 154.0],\n",
       " [475.0, 0.9, 225.0],\n",
       " [1702.0, 0.6, 315.0],\n",
       " [1145.0, 0.7, 178.0],\n",
       " [1526.0, 0.6, 356.0],\n",
       " [1653.0, 0.6, 317.0],\n",
       " [1344.0, 1.2, 175.0],\n",
       " [1518.0, 0.8, 369.0],\n",
       " [770.0, 1.0, 345.0],\n",
       " [1216.0, 0.6, 251.0],\n",
       " [1550.0, 0.5, 236.0],\n",
       " [1535.0, 1.0, 124.0],\n",
       " [891.0, 0.7, 101.0],\n",
       " [149.0, 0.5, 370.0],\n",
       " [1323.0, 1.0, 288.0],\n",
       " [607.0, 0.7, 359.0],\n",
       " [579.0, 0.5, 130.0],\n",
       " [950.0, 0.6, 207.0],\n",
       " [1342.0, 1.1, 317.0],\n",
       " [858.0, 1.2, 124.0],\n",
       " [1609.0, 0.5, 208.0],\n",
       " [776.0, 0.9, 148.0],\n",
       " [1330.0, 0.8, 343.0],\n",
       " [1321.0, 1.0, 309.0],\n",
       " [128.0, 0.9, 384.0],\n",
       " [1389.0, 0.8, 131.0],\n",
       " [1343.0, 1.1, 379.0]]"
      ]
     },
     "execution_count": 71,
     "metadata": {},
     "output_type": "execute_result"
    }
   ],
   "source": [
    "file_data = '9.txt'\n",
    "data = []\n",
    "with open(file_data) as f:\n",
    "    for line in f:\n",
    "        data.append([float(x) for x in line.split()])\n",
    "data = list(filter(None, data))\n",
    "max_weight = data[0][0]\n",
    "max_size = data[0][1]\n",
    "\n",
    "del data[0]\n",
    "data"
   ]
  },
  {
   "cell_type": "code",
   "execution_count": 72,
   "metadata": {},
   "outputs": [],
   "source": [
    "ga = pyeasyga.GeneticAlgorithm(data)"
   ]
  },
  {
   "cell_type": "code",
   "execution_count": 73,
   "metadata": {},
   "outputs": [
    {
     "name": "stdout",
     "output_type": "stream",
     "text": [
      "(3980.0, [1, 0, 0, 0, 1, 0, 0, 1, 0, 0, 0, 0, 1, 0, 0, 0, 1, 1, 1, 1, 1, 0, 1, 1, 0, 1, 0, 1, 0, 1])\n"
     ]
    }
   ],
   "source": [
    "def fitness(individual, data):\n",
    "    weight, volume, price = 0, 0, 0\n",
    "    for (selected, item) in zip(individual, data):\n",
    "        if selected:\n",
    "            weight += item[0]\n",
    "            volume += item[1]\n",
    "            price += item[2]\n",
    "    if weight > max_weight or volume > max_size:\n",
    "        price = 0\n",
    "    return price\n",
    "\n",
    "ga.fitness_function = fitness               \n",
    "ga.run()\n",
    "print(ga.best_individual())"
   ]
  },
  {
   "cell_type": "code",
   "execution_count": 74,
   "metadata": {},
   "outputs": [
    {
     "name": "stdout",
     "output_type": "stream",
     "text": [
      "3980.0\n",
      "[1, 0, 0, 0, 1, 0, 0, 1, 0, 0, 0, 0, 1, 0, 0, 0, 1, 1, 1, 1, 1, 0, 1, 1, 0, 1, 0, 1, 0, 1]\n"
     ]
    }
   ],
   "source": [
    "values, parameters = ga.best_individual()\n",
    "print(values)\n",
    "print(parameters)"
   ]
  },
  {
   "cell_type": "code",
   "execution_count": 75,
   "metadata": {},
   "outputs": [
    {
     "data": {
      "text/plain": [
       "[[0, 816.0, 0.4, 356.0],\n",
       " [4, 475.0, 0.9, 225.0],\n",
       " [7, 1526.0, 0.6, 356.0],\n",
       " [12, 1216.0, 0.6, 251.0],\n",
       " [16, 149.0, 0.5, 370.0],\n",
       " [17, 1323.0, 1.0, 288.0],\n",
       " [18, 607.0, 0.7, 359.0],\n",
       " [19, 579.0, 0.5, 130.0],\n",
       " [20, 950.0, 0.6, 207.0],\n",
       " [22, 858.0, 1.2, 124.0],\n",
       " [23, 1609.0, 0.5, 208.0],\n",
       " [25, 1330.0, 0.8, 343.0],\n",
       " [27, 128.0, 0.9, 384.0],\n",
       " [29, 1343.0, 1.1, 379.0]]"
      ]
     },
     "execution_count": 75,
     "metadata": {},
     "output_type": "execute_result"
    }
   ],
   "source": [
    "sum_weight, sum_size = 0,0\n",
    "res = []\n",
    "for i in range (len(parameters)):\n",
    "    sum_weight += parameters[i] * data[i][0]\n",
    "    sum_size += parameters[i] * data[i][1]\n",
    "    \n",
    "    if parameters[i] == 1:\n",
    "        res.append([i, data[i][0], data[i][1], data[i][2]])\n",
    "\n",
    "res"
   ]
  },
  {
   "cell_type": "code",
   "execution_count": 76,
   "metadata": {},
   "outputs": [
    {
     "name": "stdout",
     "output_type": "stream",
     "text": [
      "Грузоподъёмность рюкзака: 13000.0 \n",
      "Вес сложенного груза: 12909.0 \n",
      "Вместимость рюкзака: 12.0 \n",
      "Объем сложенного груза: 10.3 \n",
      "Ценность сложенного груза: 3980.0\n"
     ]
    }
   ],
   "source": [
    "print(\"Грузоподъёмность рюкзака:\", max_weight, \"\\nВес сложенного груза:\", sum_weight, \n",
    "\"\\nВместимость рюкзака:\", max_size, \"\\nОбъем сложенного груза:\", sum_size, \n",
    "\"\\nЦенность сложенного груза:\", values)"
   ]
  }
 ],
 "metadata": {
  "kernelspec": {
   "display_name": "Python 3",
   "language": "python",
   "name": "python3"
  },
  "language_info": {
   "codemirror_mode": {
    "name": "ipython",
    "version": 3
   },
   "file_extension": ".py",
   "mimetype": "text/x-python",
   "name": "python",
   "nbconvert_exporter": "python",
   "pygments_lexer": "ipython3",
   "version": "3.8.5"
  }
 },
 "nbformat": 4,
 "nbformat_minor": 4
}
